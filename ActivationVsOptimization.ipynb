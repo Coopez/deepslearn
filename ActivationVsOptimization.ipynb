{
  "nbformat": 4,
  "nbformat_minor": 0,
  "metadata": {
    "colab": {
      "name": "ActivationVsOptimization.ipynb",
      "provenance": [],
      "private_outputs": true,
      "collapsed_sections": []
    },
    "kernelspec": {
      "display_name": "Python 3",
      "name": "python3"
    },
    "language_info": {
      "codemirror_mode": {
        "name": "ipython",
        "version": 3
      },
      "file_extension": ".py",
      "mimetype": "text/x-python",
      "name": "python",
      "nbconvert_exporter": "python",
      "pygments_lexer": "ipython3",
      "version": "3.5.2"
    }
  },
  "cells": [
    {
      "cell_type": "code",
      "metadata": {
        "colab_type": "code",
        "id": "0trJmd6DjqBZ",
        "colab": {}
      },
      "source": [
        "from __future__ import absolute_import, division, print_function, unicode_literals\n",
        "\n",
        "try:\n",
        "  %tensorflow_version 2.x\n",
        "except Exception:\n",
        "  pass\n",
        "import tensorflow as tf\n",
        "from tensorflow import keras\n",
        "# Helper libraries\n",
        "import numpy as np\n",
        "import matplotlib.pyplot as plt"
      ],
      "execution_count": 0,
      "outputs": []
    },
    {
      "cell_type": "markdown",
      "metadata": {
        "id": "5mo9xBCFnlde",
        "colab_type": "text"
      },
      "source": [
        "Loading the data set:"
      ]
    },
    {
      "cell_type": "code",
      "metadata": {
        "colab_type": "code",
        "id": "7FP5258xjs-v",
        "colab": {}
      },
      "source": [
        "mnist = tf.keras.datasets.fashion_mnist\n",
        "\n",
        "(x_train, y_train), (x_test, y_test) = mnist.load_data()\n"
      ],
      "execution_count": 0,
      "outputs": []
    },
    {
      "cell_type": "markdown",
      "metadata": {
        "colab_type": "text",
        "id": "BPZ68wASog_I"
      },
      "source": [
        "building classes and scaling the data to fit values between 0 and 1."
      ]
    },
    {
      "cell_type": "code",
      "metadata": {
        "id": "5huYW9b_obhG",
        "colab_type": "code",
        "colab": {}
      },
      "source": [
        "class_names = ['T-shirt/top', 'Trouser', 'Pullover', 'Dress', 'Coat',\n",
        "               'Sandal', 'Shirt', 'Sneaker', 'Bag', 'Ankle boot']\n",
        "x_train = x_train/ 255\n",
        "x_test = x_test / 255"
      ],
      "execution_count": 0,
      "outputs": []
    },
    {
      "cell_type": "markdown",
      "metadata": {
        "id": "vObJ7SDDnCPD",
        "colab_type": "text"
      },
      "source": [
        "After all of this, the actual models are generated using different activation functions:"
      ]
    },
    {
      "cell_type": "code",
      "metadata": {
        "colab_type": "code",
        "id": "h3IKyzTCDNGo",
        "colab": {}
      },
      "source": [
        " #ELU, Leaky ReLU, PReLU, SoftPlus, Sigmoid, etc.\n",
        "actF = ['relu', 'elu', 'softplus', 'sigmoid', 'LeakyReLU', 'PReLU'] \n",
        "models = {}\n",
        "tf.keras.layers.LeakyReLU(alpha=0.3)\n",
        "tf.keras.layers.PReLU(alpha_initializer='zeros', alpha_regularizer=None, alpha_constraint=None, shared_axes=None)\n",
        "tf.keras.layers.ELU(alpha=1.0)\n",
        "\n",
        "for func in range(0,6):\n",
        "  models[func] = tf.keras.Sequential()\n",
        "  models[func].add(tf.keras.layers.Flatten(input_shape=(28,28)))\n",
        "  if func < 4:\n",
        "    models[func].add(tf.keras.layers.Dense(128,activation=actF[func]))\n",
        "  else:\n",
        "    if actF[func] == 'LeakyReLU':\n",
        "      models[func].add(tf.keras.layers.Dense(128))\n",
        "      models[func].add(tf.keras.layers.LeakyReLU(alpha=0.05))\n",
        "    if actF[func] == 'PReLU':\n",
        "      models[func].add(tf.keras.layers.Dense(128))\n",
        "      models[func].add(tf.keras.layers.PReLU())\n",
        "  models[func].add(tf.keras.layers.Dense(10))\n"
      ],
      "execution_count": 0,
      "outputs": []
    },
    {
      "cell_type": "markdown",
      "metadata": {
        "id": "KUEy43vAm2Hw",
        "colab_type": "text"
      },
      "source": [
        "Now we implement the model fit with different optimizers:"
      ]
    },
    {
      "cell_type": "code",
      "metadata": {
        "id": "i4kHpbshuDFu",
        "colab_type": "code",
        "colab": {}
      },
      "source": [
        "# SGD, SGD with momentum, Adam, RMSProp, Nadam\n",
        "optstr = ['SGD', 'SGD with momentum', 'Adam', 'RMSProp', 'Nadam']\n",
        "opt = {}\n",
        "opt[0] = tf.keras.optimizers.SGD(lr=0.01, decay=1e-6, momentum=0, nesterov=True)\n",
        "opt[1] = tf.keras.optimizers.SGD(lr=0.01, decay=1e-6, momentum=0.9, nesterov=True)\n",
        "opt[2] = tf.keras.optimizers.Adam(lr=0.001, beta_1=0.9, beta_2=0.999, amsgrad=False)\n",
        "opt[3] = tf.keras.optimizers.RMSprop(lr=0.001, rho=0.9)\n",
        "opt[4] = tf.keras.optimizers.Nadam(lr=0.002, beta_1=0.9, beta_2=0.999)\n",
        "class res:\n",
        "    def __init__(self):\n",
        "        self.opt = {}\n",
        "        self.act = {}\n",
        "        self.testloss = {}\n",
        "        self.testacc = {}\n",
        "        self.trainloss = {}\n",
        "        self.trainacc = {}\n",
        "test_res = {}\n",
        "for o in range(0,5):\n",
        "  print('Optimzer: '+ optstr[o])\n",
        "  test_res[o] = res()\n",
        "  test_res[o].opt = optstr[o]\n",
        "  for model in range(0,6):\n",
        "    print('ActFunc: '+ actF[model])\n",
        "    test_res[o].act[model] = actF[model]\n",
        "    models[model].compile(optimizer=opt[o], \n",
        "                          loss=tf.keras.losses.SparseCategoricalCrossentropy(from_logits=True),\n",
        "                          metrics=['accuracy'])\n",
        "    m = models[model].fit(x_train, y_train, epochs=10)\n",
        "    test_res[o].trainacc[model]  =  m.history['acc']  \n",
        "    test_res[o].trainloss[model]  =  m.history['loss']           \n",
        "    test_res[o].testloss[model], test_res[o].testacc[model] = models[model].evaluate(x_test,  y_test, verbose=2)\n"
      ],
      "execution_count": 0,
      "outputs": []
    },
    {
      "cell_type": "markdown",
      "metadata": {
        "id": "1wFn6InwwzJ6",
        "colab_type": "text"
      },
      "source": [
        "Printing the output for later use:\n"
      ]
    },
    {
      "cell_type": "code",
      "metadata": {
        "id": "-mm8fUrx-5FD",
        "colab_type": "code",
        "colab": {}
      },
      "source": [
        "for i in range(0,6):\n",
        "  print('Optimzer: '+ optstr[i])\n",
        "  print(\"Activations:\")\n",
        "  print(test_res[i].act)\n",
        "  print(\"Training Accuracy\")\n",
        "  print(test_res[i].trainacc)\n",
        "  print(\"Training loss\")\n",
        "  print(test_res[i].trainloss)\n",
        "  print(\"Test Accuracy\")\n",
        "  print(test_res[i].testacc)\n",
        "  print(\"Test loss\")\n",
        "  print(test_res[i].testloss)"
      ],
      "execution_count": 0,
      "outputs": []
    }
  ]
}